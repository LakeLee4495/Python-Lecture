{
 "cells": [
  {
   "cell_type": "markdown",
   "metadata": {},
   "source": [
    "# Unit 15. 조건문 elif"
   ]
  },
  {
   "cell_type": "code",
   "execution_count": 2,
   "metadata": {},
   "outputs": [
    {
     "name": "stdout",
     "output_type": "stream",
     "text": [
      "77 C\n"
     ]
    }
   ],
   "source": [
    "# 90점 이상 A, 80점 이상 B, 70점 이상 C, 60점 이상 D, 나머지 F\n",
    "\n",
    "import random\n",
    "score = random.randint(40,100)\n",
    "if score >= 90:\n",
    "    grade = 'A'\n",
    "elif score >= 80:\n",
    "    grade = 'B'\n",
    "elif score >= 70:\n",
    "    grade = 'C'\n",
    "elif score >= 60:\n",
    "    grade = 'D'\n",
    "else:\n",
    "    grade = 'F'\n",
    "print(score, grade)"
   ]
  },
  {
   "cell_type": "code",
   "execution_count": 4,
   "metadata": {},
   "outputs": [
    {
     "name": "stdout",
     "output_type": "stream",
     "text": [
      "65 D\n"
     ]
    }
   ],
   "source": [
    "score = random.randint(40,100)\n",
    "grade = 'A' if score >= 90 else \\\n",
    "            'B' if score >= 80 else \\\n",
    "                'C' if score >= 70 else \\\n",
    "                    'D' if score >= 60 else 'F'\n",
    "print(score, grade)\n"
   ]
  },
  {
   "cell_type": "code",
   "execution_count": 15,
   "metadata": {},
   "outputs": [
    {
     "name": "stdout",
     "output_type": "stream",
     "text": [
      "1993 1 19 29\n"
     ]
    }
   ],
   "source": [
    "# 생일을 입력받아 오늘 현재의 만 나이를 계산\n",
    "import datetime as dt\n",
    "today = dt.date.today()\n",
    "today.year, today.month, today.day\n",
    "\n",
    "birth_year, birth_month, birth_day = map(int, input('생년월일').split())\n",
    "\n",
    "if today.month < birth_month:                       # 생월이 지났으면\n",
    "    age = today.year - birth_year -1\n",
    "elif today.month > birth_month:                     # 생월이 아직 안왔으면\n",
    "    age = today.year - birth_year \n",
    "else:                                               # 생월이 같으면\n",
    "    if today.day <= birth_day:                      # 생일이 같거나 지났으면\n",
    "        age = today.year - birth_year -1\n",
    "    else:                                           # 생일이 아직 안왔으면\n",
    "        age = today.year - birth_year \n",
    "print(birth_year, birth_month, birth_day, age)"
   ]
  },
  {
   "cell_type": "code",
   "execution_count": null,
   "metadata": {},
   "outputs": [],
   "source": []
  }
 ],
 "metadata": {
  "interpreter": {
   "hash": "a55677fa32ee009990947e7ccabbe84f05e44a581f6899b2d3b1741ca6fd9332"
  },
  "kernelspec": {
   "display_name": "Python 3.9.7 ('base')",
   "language": "python",
   "name": "python3"
  },
  "language_info": {
   "codemirror_mode": {
    "name": "ipython",
    "version": 3
   },
   "file_extension": ".py",
   "mimetype": "text/x-python",
   "name": "python",
   "nbconvert_exporter": "python",
   "pygments_lexer": "ipython3",
   "version": "3.9.7"
  },
  "orig_nbformat": 4
 },
 "nbformat": 4,
 "nbformat_minor": 2
}
