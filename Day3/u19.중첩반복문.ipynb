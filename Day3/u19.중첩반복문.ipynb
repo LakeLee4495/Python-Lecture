{
 "cells": [
  {
   "cell_type": "markdown",
   "metadata": {},
   "source": [
    "# Unit 19. 중첩(Nested) 반복문"
   ]
  },
  {
   "cell_type": "markdown",
   "metadata": {},
   "source": [
    "## 19.1 중첩 루프 "
   ]
  },
  {
   "cell_type": "code",
   "execution_count": 2,
   "metadata": {},
   "outputs": [
    {
     "name": "stdout",
     "output_type": "stream",
     "text": [
      "*\n",
      "**\n",
      "***\n",
      "****\n",
      "*****\n"
     ]
    }
   ],
   "source": [
    "for i in range(1,6):                # 행단위\n",
    "    for k in range(i):\n",
    "        print('*', end='')\n",
    "    print()\n"
   ]
  },
  {
   "cell_type": "code",
   "execution_count": 5,
   "metadata": {},
   "outputs": [
    {
     "name": "stdout",
     "output_type": "stream",
     "text": [
      "*\n",
      "**\n",
      "***\n",
      "****\n",
      "*****\n"
     ]
    }
   ],
   "source": [
    "for i in range(1,6):\n",
    "    print('*' * i)"
   ]
  },
  {
   "cell_type": "markdown",
   "metadata": {},
   "source": [
    "19.2 사각형으로 별 출력"
   ]
  },
  {
   "cell_type": "code",
   "execution_count": 7,
   "metadata": {},
   "outputs": [
    {
     "name": "stdout",
     "output_type": "stream",
     "text": [
      "*****\n",
      "*****\n",
      "*****\n"
     ]
    }
   ],
   "source": [
    "width, height = 5, 3\n",
    "for i in range(height):\n",
    "    for k in range(width):\n",
    "        print('*', end='')\n",
    "    print()"
   ]
  },
  {
   "cell_type": "markdown",
   "metadata": {},
   "source": [
    "# 19.3 계단식 별모양"
   ]
  },
  {
   "cell_type": "code",
   "execution_count": 8,
   "metadata": {},
   "outputs": [
    {
     "name": "stdout",
     "output_type": "stream",
     "text": [
      "    *\n",
      "   **\n",
      "  ***\n",
      " ****\n",
      "*****\n"
     ]
    }
   ],
   "source": [
    "for i in range(5):\n",
    "    for k in range(4-i):\n",
    "        print(' ', end='')\n",
    "    for k in range(i+1):\n",
    "        print('*', end='')\n",
    "    print()"
   ]
  },
  {
   "cell_type": "code",
   "execution_count": 13,
   "metadata": {},
   "outputs": [
    {
     "name": "stdout",
     "output_type": "stream",
     "text": [
      "   *\n",
      "  ***\n",
      " *****\n",
      "*******\n",
      " *****\n",
      "  ***\n",
      "   *\n"
     ]
    }
   ],
   "source": [
    "# N = 7인 경우\n",
    "n = 7 // 2 + 1\n",
    "for i in range(n):\n",
    "    for k in range(n-1-i):\n",
    "        print(' ', end='')\n",
    "    for k in range(2*i+1):\n",
    "        print('*', end='')\n",
    "    print()\n",
    "for i in range(n-2, -1, -1):\n",
    "    for k in range(n-1-i):\n",
    "        print(' ', end='')\n",
    "    for k in range(2*i+1):\n",
    "        print('*', end='')\n",
    "    print()"
   ]
  },
  {
   "cell_type": "code",
   "execution_count": 15,
   "metadata": {},
   "outputs": [
    {
     "name": "stdout",
     "output_type": "stream",
     "text": [
      "   *\n",
      "  ***\n",
      " *****\n",
      "*******\n",
      " *****\n",
      "  ***\n",
      "   *\n"
     ]
    }
   ],
   "source": [
    "# 다이아몬드 그리기 (가운데 행의 별의 갯수가 7개인경우)\n",
    "for i in range(4):\n",
    "    for k in range(3-i):\n",
    "        print(' ', end='')\n",
    "    for k in range(2*i+1):\n",
    "        print('*', end='')\n",
    "    print()\n",
    "for i in range(2, -1, -1):\n",
    "    for k in range(4-1-i):\n",
    "        print(' ', end='')\n",
    "    for k in range(2*i+1):\n",
    "        print('*', end='')\n",
    "    print()"
   ]
  },
  {
   "cell_type": "code",
   "execution_count": 18,
   "metadata": {},
   "outputs": [
    {
     "name": "stdout",
     "output_type": "stream",
     "text": [
      " *\n",
      "***\n",
      " *\n"
     ]
    }
   ],
   "source": [
    "# 가운데 행의 갯수를 입력받아서 다이아몬드 그림 그리기\n",
    "N = int(input())\n",
    "n = N // 2 + 1\n",
    "for i in range(n):\n",
    "    for k in range(n-1-i):\n",
    "        print(' ', end='')\n",
    "    for k in range(2*i+1):\n",
    "        print('*', end='')\n",
    "    print()\n",
    "for i in range(n-2, -1, -1):\n",
    "    for k in range(n-1-i):\n",
    "        print(' ', end='')\n",
    "    for k in range(2*i+1):\n",
    "        print('*', end='')\n",
    "    print()"
   ]
  },
  {
   "cell_type": "code",
   "execution_count": null,
   "metadata": {},
   "outputs": [],
   "source": []
  }
 ],
 "metadata": {
  "interpreter": {
   "hash": "a55677fa32ee009990947e7ccabbe84f05e44a581f6899b2d3b1741ca6fd9332"
  },
  "kernelspec": {
   "display_name": "Python 3.9.7 ('base')",
   "language": "python",
   "name": "python3"
  },
  "language_info": {
   "codemirror_mode": {
    "name": "ipython",
    "version": 3
   },
   "file_extension": ".py",
   "mimetype": "text/x-python",
   "name": "python",
   "nbconvert_exporter": "python",
   "pygments_lexer": "ipython3",
   "version": "3.9.7"
  },
  "orig_nbformat": 4
 },
 "nbformat": 4,
 "nbformat_minor": 2
}
