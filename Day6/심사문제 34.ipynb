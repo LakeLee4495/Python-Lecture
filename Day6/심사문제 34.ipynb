{
 "cells": [
  {
   "cell_type": "markdown",
   "metadata": {},
   "source": [
    "## 심사문제 34.6"
   ]
  },
  {
   "cell_type": "code",
   "execution_count": 1,
   "metadata": {},
   "outputs": [
    {
     "name": "stdout",
     "output_type": "stream",
     "text": [
      "티버: 피해량 819.25\n"
     ]
    }
   ],
   "source": [
    "class Annie:\n",
    "    def __init__(self,health,mana,ability_power):\n",
    "        self.health=health\n",
    "        self.mana=mana\n",
    "        self.ability_power=ability_power\n",
    " \n",
    "    def tibbers(self):\n",
    "        print('티버: 피해량 {0}'.format(self.ability_power*0.65+400))\n",
    "        \n",
    "health, mana, ability_power = map(float, input().split())\n",
    " \n",
    "x = Annie(health=health, mana=mana, ability_power=ability_power)\n",
    "x.tibbers()\n"
   ]
  },
  {
   "cell_type": "markdown",
   "metadata": {},
   "source": [
    "## 연습문제 calculator"
   ]
  },
  {
   "cell_type": "code",
   "execution_count": 7,
   "metadata": {},
   "outputs": [
    {
     "name": "stdout",
     "output_type": "stream",
     "text": [
      "0으로 나눌 수 없습니다.\n"
     ]
    }
   ],
   "source": [
    "cal = input(\"원하는 기호를 입력하세요: (+ - * /)\")\n",
    "num1 = int(input(\"첫번째 숫자를 입력하세요.\")) \n",
    "num2 = int(input(\"두번째 숫자를 입력하세요.\")) \n",
    "\n",
    "if cal == '+': \n",
    "    print(\"결과: \",(num1 + num2)) \n",
    "elif cal == '-': \n",
    "    print(\"결과: \",(num1 - num2)) \n",
    "elif cal == '*': \n",
    "    print(\"결과: \",(num1 * num2)) \n",
    "elif cal == '/':\n",
    "    if num2 != 0:\n",
    "        print(\"결과: \",(num1 / num2))\n",
    "    else:\n",
    "        print(\"0으로 나눌 수 없습니다.\")\n",
    "else: \n",
    "    print(\"오류\") "
   ]
  },
  {
   "cell_type": "markdown",
   "metadata": {},
   "source": [
    "## 연습문제 Account 클래스 만들기"
   ]
  },
  {
   "cell_type": "code",
   "execution_count": null,
   "metadata": {},
   "outputs": [],
   "source": []
  }
 ],
 "metadata": {
  "interpreter": {
   "hash": "a55677fa32ee009990947e7ccabbe84f05e44a581f6899b2d3b1741ca6fd9332"
  },
  "kernelspec": {
   "display_name": "Python 3.9.7 ('base')",
   "language": "python",
   "name": "python3"
  },
  "language_info": {
   "codemirror_mode": {
    "name": "ipython",
    "version": 3
   },
   "file_extension": ".py",
   "mimetype": "text/x-python",
   "name": "python",
   "nbconvert_exporter": "python",
   "pygments_lexer": "ipython3",
   "version": "3.9.7"
  },
  "orig_nbformat": 4
 },
 "nbformat": 4,
 "nbformat_minor": 2
}
